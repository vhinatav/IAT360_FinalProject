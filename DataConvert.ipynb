{
  "nbformat": 4,
  "nbformat_minor": 0,
  "metadata": {
    "colab": {
      "provenance": [],
      "include_colab_link": true
    },
    "kernelspec": {
      "name": "python3",
      "display_name": "Python 3"
    },
    "language_info": {
      "name": "python"
    }
  },
  "cells": [
    {
      "cell_type": "markdown",
      "metadata": {
        "id": "view-in-github",
        "colab_type": "text"
      },
      "source": [
        "<a href=\"https://colab.research.google.com/github/vhinatav/IAT360_FinalProject/blob/main/DataConvert.ipynb\" target=\"_parent\"><img src=\"https://colab.research.google.com/assets/colab-badge.svg\" alt=\"Open In Colab\"/></a>"
      ]
    },
    {
      "cell_type": "code",
      "execution_count": null,
      "metadata": {
        "id": "MLUdJi-5NrJk",
        "colab": {
          "base_uri": "https://localhost:8080/"
        },
        "outputId": "14272df8-f2e3-48de-8447-639b693713bb"
      },
      "outputs": [
        {
          "output_type": "stream",
          "name": "stdout",
          "text": [
            "           id    target                                       comment_text  \\\n",
            "0       59848  0.000000  This is so cool. It's like, 'would you want yo...   \n",
            "1       59849  0.000000  Thank you!! This would make my life a lot less...   \n",
            "2       59852  0.000000  This is such an urgent design problem; kudos t...   \n",
            "3       59855  0.000000  Is this something I'll be able to install on m...   \n",
            "4       59856  0.893617               haha you guys are a bunch of losers.   \n",
            "...       ...       ...                                                ...   \n",
            "29994  278567  0.000000  Colonoscopy lowered my mortality risk 100%  as...   \n",
            "29995  278568  0.000000  \"If only there were some way to prove that cor...   \n",
            "29996  278569  0.200000  Stalling makes the electorate sick and tired o...   \n",
            "29997  278570  0.200000  Gabriel Ledoux is exercising a totally assumed...   \n",
            "29998  278575  0.000000  This is the organization Mr. Richards belongs ...   \n",
            "\n",
            "       severe_toxicity  obscene  identity_attack   insult  threat  asian  \\\n",
            "0             0.000000      0.0         0.000000  0.00000     0.0    NaN   \n",
            "1             0.000000      0.0         0.000000  0.00000     0.0    NaN   \n",
            "2             0.000000      0.0         0.000000  0.00000     0.0    NaN   \n",
            "3             0.000000      0.0         0.000000  0.00000     0.0    NaN   \n",
            "4             0.021277      0.0         0.021277  0.87234     0.0    0.0   \n",
            "...                ...      ...              ...      ...     ...    ...   \n",
            "29994         0.000000      0.0         0.000000  0.00000     0.0    NaN   \n",
            "29995         0.000000      0.0         0.000000  0.00000     0.0    NaN   \n",
            "29996         0.000000      0.2         0.200000  0.00000     0.0    0.0   \n",
            "29997         0.000000      0.0         0.000000  0.20000     0.0    NaN   \n",
            "29998         0.000000      0.0         0.000000  0.00000     0.0    NaN   \n",
            "\n",
            "       atheist  ...  article_id    rating  funny  wow  sad  likes  disagree  \\\n",
            "0          NaN  ...        2006  rejected      0    0    0      0         0   \n",
            "1          NaN  ...        2006  rejected      0    0    0      0         0   \n",
            "2          NaN  ...        2006  rejected      0    0    0      0         0   \n",
            "3          NaN  ...        2006  rejected      0    0    0      0         0   \n",
            "4          0.0  ...        2006  rejected      0    0    0      1         0   \n",
            "...        ...  ...         ...       ...    ...  ...  ...    ...       ...   \n",
            "29994      NaN  ...       58810  approved      0    0    0      0         0   \n",
            "29995      NaN  ...       97323  approved      0    0    0      5         0   \n",
            "29996      0.0  ...      105060  approved      0    0    0      4         0   \n",
            "29997      NaN  ...       58818  approved      0    0    0      3         0   \n",
            "29998      NaN  ...       98234  approved      0    0    0      1         0   \n",
            "\n",
            "       sexual_explicit  identity_annotator_count  toxicity_annotator_count  \n",
            "0                  0.0                         0                         4  \n",
            "1                  0.0                         0                         4  \n",
            "2                  0.0                         0                         4  \n",
            "3                  0.0                         0                         4  \n",
            "4                  0.0                         4                        47  \n",
            "...                ...                       ...                       ...  \n",
            "29994              0.0                         0                         4  \n",
            "29995              0.0                         0                         4  \n",
            "29996              0.0                         4                         5  \n",
            "29997              0.0                         0                         5  \n",
            "29998              0.0                         0                         4  \n",
            "\n",
            "[29999 rows x 45 columns]\n",
            "Train: 23999\n",
            "Test: 6000\n",
            "Counter({0: 5625, 1: 375})\n"
          ]
        }
      ],
      "source": [
        "import pandas as pd\n",
        "from collections import Counter\n",
        "import json\n",
        "import random\n",
        "\n",
        "\n",
        "df = pd.read_csv(\"Desktop/toxic_comment3.csv\")\n",
        "\n",
        "print(df)\n",
        "\n",
        "\n",
        "rows = [{'text': str(row['comment_text']).strip() if isinstance(row['comment_text'], str) else str(row['comment_text']),\n",
        "        'label': 1 if row['target'] >= 0.5 else 0,\n",
        "        'label_text': \"toxic\" if row['target'] >= 0.5 else \"not toxic\",\n",
        "         } for idx, row in df.iterrows()]\n",
        "\n",
        "random.seed(42)\n",
        "random.shuffle(rows)\n",
        "\n",
        "num_test = 6000\n",
        "splits = {'test': rows[0:num_test], 'train': rows[num_test:]}\n",
        "\n",
        "print(\"Train:\", len(splits['train']))\n",
        "print(\"Test:\", len(splits['test']))\n",
        "\n",
        "num_labels = Counter()\n",
        "\n",
        "for row in splits['test']:\n",
        "    num_labels[row['label']] += 1\n",
        "print(num_labels)\n",
        "\n",
        "for split in ['train', 'test']:\n",
        "    with open(f'{split}.jsonl', 'w') as fOut:\n",
        "        for row in splits[split]:\n",
        "            fOut.write(json.dumps(row)+\"\\n\")\n"
      ]
    }
  ]
}